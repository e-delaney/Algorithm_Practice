{
 "cells": [
  {
   "cell_type": "markdown",
   "metadata": {},
   "source": [
    "### Simple Nearest Neighbour Finder "
   ]
  },
  {
   "cell_type": "markdown",
   "metadata": {},
   "source": [
    "This version implements the most basic kNN. First we  randomly generate some datapoints. Next we define some distance metrics we can use with the kNN. By querying a new datapoint we can retrieve the Nearest Neighbour to this point.  "
   ]
  },
  {
   "cell_type": "code",
   "execution_count": 1,
   "metadata": {},
   "outputs": [],
   "source": [
    "# Importing the most basic libs\n",
    "import numpy as np \n",
    "import matplotlib.pyplot as plt\n",
    "import random\n",
    "%matplotlib inline"
   ]
  },
  {
   "cell_type": "code",
   "execution_count": 2,
   "metadata": {},
   "outputs": [],
   "source": [
    "def vector_generator(): #Just generate 10 random points between (0 and 10)\n",
    "\n",
    "    import random\n",
    "    x = []\n",
    "    y = []\n",
    "\n",
    "    for i in range(10):\n",
    "\n",
    "        x.append(random.randint(0,10))\n",
    "        y.append(random.randint(0,10))\n",
    "\n",
    "    return np.column_stack((x,y))\n",
    "\n",
    "\n",
    "def dist(x1,x2, metric): #defining the distance metrics that will be used during retrieval\n",
    "\n",
    "    if metric == 'euclidean':\n",
    "        return ((np.sum((x1-x2)**2))**(1/2))\n",
    "\n",
    "    elif metric == 'manhatten':\n",
    "        return np.sum(abs(x1-x2))\n",
    "\n",
    "    elif metric == 'chebyshev':\n",
    "        return np.max(abs(x1-x2))\n",
    "\n",
    "\n",
    "def retrieve_nn(query, metric):\n",
    "    distance = []\n",
    "    vector = vector_generator()\n",
    "    for point in vector:\n",
    "        distance.append(dist(query,point,metric))\n",
    "\n",
    "    plt.scatter(vector[:,0], vector[:,1], c='r')\n",
    "    plt.rc('grid', linestyle=\"-\")\n",
    "    plt.grid(False)\n",
    "    plt.scatter(query[0],query[1],c='b')\n",
    "    return plt.show(), print('The Nearest Neighbour to the query is the point %s' %vector[np.array(distance).argmin()])\n"
   ]
  },
  {
   "cell_type": "code",
   "execution_count": 3,
   "metadata": {},
   "outputs": [
    {
     "data": {
      "image/png": "[encoded data removed]",
      "text/plain": [
       "<Figure size 432x288 with 1 Axes>"
      ]
     },
     "metadata": {
      "needs_background": "light"
     },
     "output_type": "display_data"
    },
    {
     "name": "stdout",
     "output_type": "stream",
     "text": [
      "The Nearest Neighbour to the query is the point [4 6]\n"
     ]
    },
    {
     "data": {
      "text/plain": [
       "(None, None)"
      ]
     },
     "execution_count": 3,
     "metadata": {},
     "output_type": "execute_result"
    }
   ],
   "source": [
    "retrieve_nn([5.8,4.5], 'manhatten')"
   ]
  },
  {
   "cell_type": "markdown",
   "metadata": {},
   "source": [
    "**Making this into a class**"
   ]
  },
  {
   "cell_type": "code",
   "execution_count": 4,
   "metadata": {},
   "outputs": [],
   "source": [
    "class kNN():\n",
    "    \n",
    "    \n",
    "    def __init__(self, distance_measure, plot):\n",
    "    \n",
    "        self.distance_measure = distance_measure\n",
    "        self.plot = plot\n",
    "\n",
    "\n",
    "    def vector_generator(self): #Just generate 10 random points between (0 and 10)\n",
    "\n",
    "        import random\n",
    "        x = []\n",
    "        y = []\n",
    "\n",
    "        for i in range(10):\n",
    "\n",
    "            x.append(random.randint(0,10))\n",
    "            y.append(random.randint(0,10))\n",
    "            \n",
    "        self.data = np.column_stack((x,y))\n",
    "\n",
    "        return self.data\n",
    "\n",
    "\n",
    "    def dist(self,x1,x2, distance_measure): #defining the distance metrics that will be used during retrieval\n",
    "\n",
    "        if self.distance_measure == 'euclidean':\n",
    "            return ((np.sum((x1-x2)**2))**(1/2))\n",
    "\n",
    "        elif self.distance_measure == 'manhatten':\n",
    "            return np.sum(abs(x1-x2))\n",
    "\n",
    "        elif self.distance_measure == 'chebyshev':\n",
    "            return np.max(abs(x1-x2))\n",
    "\n",
    "\n",
    "\n",
    "    def retrieve_nn(query, distance_measure,plot):\n",
    "        distance = []\n",
    "        vector = vector_generator()\n",
    "        for point in vector:\n",
    "            distance.append(dist(query,point,distance_measure))\n",
    "            \n",
    "        if plot == True:\n",
    "            plt.scatter(vector[:,0], vector[:,1], c='r')\n",
    "            plt.rc('grid', linestyle=\"-\")\n",
    "            plt.grid(False)\n",
    "            plt.scatter(query[0],query[1],c='b')\n",
    "            \n",
    "        return print('The Nearest Neighbour to the query is the point %s' %vector[np.array(distance).argmin()]), plt.show()"
   ]
  },
  {
   "cell_type": "code",
   "execution_count": 5,
   "metadata": {},
   "outputs": [],
   "source": [
    "algorithm = kNN(distance_measure='euclidean', plot=True)"
   ]
  },
  {
   "cell_type": "code",
   "execution_count": 6,
   "metadata": {},
   "outputs": [
    {
     "data": {
      "text/plain": [
       "array([[5, 4],\n",
       "       [6, 1],\n",
       "       [5, 9],\n",
       "       [8, 9],\n",
       "       [3, 8],\n",
       "       [7, 8],\n",
       "       [6, 1],\n",
       "       [9, 9],\n",
       "       [3, 0],\n",
       "       [5, 1]])"
      ]
     },
     "execution_count": 6,
     "metadata": {},
     "output_type": "execute_result"
    }
   ],
   "source": [
    "algorithm.vector_generator()"
   ]
  },
  {
   "cell_type": "code",
   "execution_count": 7,
   "metadata": {},
   "outputs": [
    {
     "data": {
      "text/plain": [
       "array([[5, 4],\n",
       "       [6, 1],\n",
       "       [5, 9],\n",
       "       [8, 9],\n",
       "       [3, 8],\n",
       "       [7, 8],\n",
       "       [6, 1],\n",
       "       [9, 9],\n",
       "       [3, 0],\n",
       "       [5, 1]])"
      ]
     },
     "execution_count": 7,
     "metadata": {},
     "output_type": "execute_result"
    }
   ],
   "source": [
    "algorithm.data"
   ]
  },
  {
   "cell_type": "code",
   "execution_count": 8,
   "metadata": {},
   "outputs": [
    {
     "name": "stdout",
     "output_type": "stream",
     "text": [
      "The Nearest Neighbour to the query is the point [3 5]\n"
     ]
    },
    {
     "data": {
      "image/png": "[encoded data removed]",
      "text/plain": [
       "<Figure size 432x288 with 1 Axes>"
      ]
     },
     "metadata": {
      "needs_background": "light"
     },
     "output_type": "display_data"
    },
    {
     "data": {
      "text/plain": [
       "(None, None)"
      ]
     },
     "execution_count": 8,
     "metadata": {},
     "output_type": "execute_result"
    }
   ],
   "source": [
    "kNN.retrieve_nn(query=[2,2.9], distance_measure='euclidean', plot=True)"
   ]
  }
 ],
 "metadata": {
  "kernelspec": {
   "display_name": "Python 3",
   "language": "python",
   "name": "python3"
  },
  "language_info": {
   "codemirror_mode": {
    "name": "ipython",
    "version": 3
   },
   "file_extension": ".py",
   "mimetype": "text/x-python",
   "name": "python",
   "nbconvert_exporter": "python",
   "pygments_lexer": "ipython3",
   "version": "3.7.3"
  },
  "toc": {
   "base_numbering": 1,
   "nav_menu": {},
   "number_sections": true,
   "sideBar": true,
   "skip_h1_title": false,
   "title_cell": "Table of Contents",
   "title_sidebar": "Contents",
   "toc_cell": false,
   "toc_position": {},
   "toc_section_display": true,
   "toc_window_display": false
  }
 },
 "nbformat": 4,
 "nbformat_minor": 2
}
